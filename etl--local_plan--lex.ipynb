{
 "cells": [
  {
   "cell_type": "code",
   "execution_count": 18,
   "metadata": {
    "collapsed": false
   },
   "outputs": [],
   "source": [
    "import pandas as pd\n",
    "import numpy as np\n",
    "import os\n",
    "from ddf_utils.str import to_concept_id\n",
    "from ddf_utils.index import create_index_file"
   ]
  },
  {
   "cell_type": "code",
   "execution_count": 205,
   "metadata": {
    "collapsed": true
   },
   "outputs": [],
   "source": [
    "# Filenames etc\n",
    "out_dir = \"output\"\n",
    "src = \"src\"\n",
    "\n",
    "# Raw data\n",
    "lex_file = os.path.join(src, \"000000NH.xlsx\") # Life expectancy"
   ]
  },
  {
   "cell_type": "markdown",
   "metadata": {
    "collapsed": true
   },
   "source": [
    "### Extract entities - counties"
   ]
  },
  {
   "cell_type": "code",
   "execution_count": 234,
   "metadata": {
    "collapsed": true
   },
   "outputs": [],
   "source": [
    "def extract_entities_counties(data):\n",
    "    county = data[[\"Unnamed: 0\", \"Unnamed: 1\"]].copy() # Copy entity columns\n",
    "    county.rename(columns = {\"Unnamed: 0\": \"county\", \"Unnamed: 1\": \"name\"}, inplace=True) # Rename columns\n",
    "    county = county.dropna()\n",
    "    county[\"county\"] = county[\"county\"].map(to_concept_id) # Make id string alphanumeric\n",
    "    \n",
    "    return county"
   ]
  },
  {
   "cell_type": "markdown",
   "metadata": {},
   "source": [
    "### Extract concepts"
   ]
  },
  {
   "cell_type": "code",
   "execution_count": 227,
   "metadata": {
    "collapsed": true
   },
   "outputs": [],
   "source": [
    "def extract_concepts(out_dir):\n",
    "    concept_file = os.path.join(out_dir, \"ddf--concepts.csv\")\n",
    "    \n",
    "    concepts = [\"Life expectancy\", \"Year\", \"County\"]\n",
    "    df_con = pd.DataFrame([], columns = [\"concept\", \"name\", \"concept_type\"])\n",
    "\n",
    "    df_con[\"name\"] = concepts\n",
    "    df_con[\"concept\"] = df_con[\"name\"].map(to_concept_id)\n",
    "\n",
    "    df_con[\"concept_type\"] = \"measure\"\n",
    "    df_con[\"concept_type\"].iloc[1] = \"time\"\n",
    "    df_con[\"concept_type\"].iloc[2] = \"entity_domain\"\n",
    "    \n",
    "    # If not exist, create new\n",
    "    # Else, add to existing file\n",
    "    if os.path.isfile(concept_file):\n",
    "        print concept_file + \" exists. Adding new entries.\"\n",
    "        data = pd.read_csv(concept_file, encoding=\"utf-8\")\n",
    "        df_con = pd.concat([data, df_con])\n",
    "        df_con = df_con.drop_duplicates(subset=[\"concept\"])\n",
    "        \n",
    "    return df_con"
   ]
  },
  {
   "cell_type": "markdown",
   "metadata": {},
   "source": [
    "### Helpers"
   ]
  },
  {
   "cell_type": "code",
   "execution_count": 228,
   "metadata": {
    "collapsed": false
   },
   "outputs": [],
   "source": [
    "def calculate_average_lex(data):\n",
    "    df = data.copy()\n",
    "    avg = pd.DataFrame([], columns=data.columns[2:])\n",
    "    values = df[df.columns[2:]]\n",
    "    for i in range(len(data.index)):\n",
    "        if i % 2 == 0:\n",
    "            female = values.iloc[i]\n",
    "            male = values.iloc[i+1]\n",
    "            tmp = pd.Series((female+male)/2)\n",
    "            avg = avg.append(tmp, ignore_index=True)\n",
    "    return avg"
   ]
  },
  {
   "cell_type": "code",
   "execution_count": 229,
   "metadata": {
    "collapsed": false
   },
   "outputs": [],
   "source": [
    "def calculate_average_years(columns):\n",
    "    average_years = []\n",
    "    for col in columns:\n",
    "        interval = col.split(\"-\")\n",
    "        r = range(int(interval[0]),int(interval[1])+1)\n",
    "        average_years.append(r[len(r)/2])\n",
    "\n",
    "    return average_years"
   ]
  },
  {
   "cell_type": "markdown",
   "metadata": {},
   "source": [
    "### Extract datapoints"
   ]
  },
  {
   "cell_type": "code",
   "execution_count": 230,
   "metadata": {
    "collapsed": true
   },
   "outputs": [],
   "source": [
    "def extract_datapoints(data):\n",
    "    measure = \"life_expectancy\"\n",
    "    \n",
    "    # Extract entities\n",
    "    entities = extract_entities_counties(data)\n",
    "    \n",
    "    # Calculate average lex for females and males\n",
    "    lex = calculate_average_lex(data)\n",
    "\n",
    "    # Change from year interval to average year (e.g. 1998-2002 -> 2000)\n",
    "    lex.columns = calculate_average_years(data.columns[2:])\n",
    "\n",
    "    datapoints = pd.DataFrame([], columns=[\"county\", \"name\", \"year\", measure])\n",
    "    for year in lex.columns:\n",
    "        tmp = entities.reset_index().copy() #TODO: Remove this hack (wrong concat because of index)\n",
    "        tmp[\"year\"] = str(year)\n",
    "        tmp[measure] = lex[year]\n",
    "        tmp[measure]\n",
    "        datapoints = pd.concat([datapoints,tmp])\n",
    "        \n",
    "    datapoints[\"county\"] = datapoints[\"county\"].map(to_concept_id)\n",
    "    \n",
    "    # Two lines below will go when above hack is fixed\n",
    "    del datapoints[\"index\"]\n",
    "    datapoints = datapoints[[\"county\",\"name\",\"year\",measure]]\n",
    "    \n",
    "    return datapoints.sort_values(by=[\"county\",\"year\"])"
   ]
  },
  {
   "cell_type": "markdown",
   "metadata": {},
   "source": [
    "### Main script"
   ]
  },
  {
   "cell_type": "code",
   "execution_count": 233,
   "metadata": {
    "collapsed": false
   },
   "outputs": [
    {
     "name": "stdout",
     "output_type": "stream",
     "text": [
      "Printing output/ddf--entities--county.csv\n",
      "output/ddf--concepts.csv exists. Adding new entries.\n",
      "Printing output/ddf--concepts.csv\n",
      "Printing output/ddf--datapoints--life_expectancy--by--county--year.csv\n"
     ]
    }
   ],
   "source": [
    "if __name__ == \"__main__\":\n",
    "\n",
    "    data = pd.read_excel(lex_file, skiprows=[0,1], parse_cols=\"A,B,E:R\", skip_footer=62, \\\n",
    "                         converters={'Unnamed: 0': lambda x: str(x)})\n",
    "\n",
    "    county = extract_entities_counties(data)\n",
    "    path = os.path.join(out_dir, \"ddf--entities--county.csv\")\n",
    "    print \"Printing \" + path\n",
    "    county.to_csv(path, index=False, encoding=\"utf-8\")\n",
    "\n",
    "    # Extract concepts\n",
    "    concepts = extract_concepts(out_dir)\n",
    "    path = os.path.join(out_dir, \"ddf--concepts.csv\")\n",
    "    print \"Printing \" + path\n",
    "    concepts.to_csv(path, index=False, encoding=\"utf-8\")\n",
    "            \n",
    "    # Extract datapoints\n",
    "    datapoints = extract_datapoints(data)\n",
    "    path = os.path.join(out_dir, \"ddf--datapoints--life_expectancy--by--county--year.csv\")\n",
    "    print \"Printing \" + path\n",
    "    datapoints.to_csv(path, index=False, encoding=\"utf-8\")\n",
    "\n",
    "    del data, county, concepts, datapoints"
   ]
  },
  {
   "cell_type": "code",
   "execution_count": null,
   "metadata": {
    "collapsed": true
   },
   "outputs": [],
   "source": []
  }
 ],
 "metadata": {
  "kernelspec": {
   "display_name": "Python 2",
   "language": "python",
   "name": "python2"
  },
  "language_info": {
   "codemirror_mode": {
    "name": "ipython",
    "version": 2
   },
   "file_extension": ".py",
   "mimetype": "text/x-python",
   "name": "python",
   "nbconvert_exporter": "python",
   "pygments_lexer": "ipython2",
   "version": "2.7.11"
  }
 },
 "nbformat": 4,
 "nbformat_minor": 0
}
