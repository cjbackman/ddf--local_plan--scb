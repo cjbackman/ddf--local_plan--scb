{
 "cells": [
  {
   "cell_type": "markdown",
   "metadata": {},
   "source": [
    "Dependencies: ogr2ogr, topojson"
   ]
  },
  {
   "cell_type": "code",
   "execution_count": 31,
   "metadata": {
    "collapsed": false
   },
   "outputs": [],
   "source": [
    "import pandas as pd\n",
    "import numpy as np\n",
    "import os\n",
    "from ddf_utils.str import to_concept_id\n",
    "from ddf_utils.index import create_index_file\n",
    "\n",
    "import subprocess\n",
    "import zipfile\n",
    "import shutil\n",
    "import urllib"
   ]
  },
  {
   "cell_type": "code",
   "execution_count": 32,
   "metadata": {
    "collapsed": true
   },
   "outputs": [],
   "source": [
    "def shape2json(src_dir, src_file, outfile):\n",
    "    cmd = \"ogr2ogr -f GeoJSON \" + outfile + \" \" + src_dir + os.path.sep + src_file\n",
    "    print \"Running command: \" + cmd\n",
    "    subprocess.call(cmd, shell=True)"
   ]
  },
  {
   "cell_type": "code",
   "execution_count": 33,
   "metadata": {
    "collapsed": true
   },
   "outputs": [],
   "source": [
    "def geo2topo(infile, outfile, out_dir=None):\n",
    "    args = \" --id-property HASC_1 -p county=NAME_1 -- \"\n",
    "    cmd = \"topojson -o \" + out_dir + os.path.sep + outfile + args + infile\n",
    "    print \"Running command: \" + cmd\n",
    "    subprocess.call(cmd, shell=True)"
   ]
  },
  {
   "cell_type": "markdown",
   "metadata": {},
   "source": [
    "### Extract map IDs"
   ]
  },
  {
   "cell_type": "code",
   "execution_count": null,
   "metadata": {
    "collapsed": true
   },
   "outputs": [],
   "source": []
  },
  {
   "cell_type": "markdown",
   "metadata": {},
   "source": [
    "### Settings"
   ]
  },
  {
   "cell_type": "code",
   "execution_count": 34,
   "metadata": {
    "collapsed": true
   },
   "outputs": [],
   "source": [
    "# Filenames etc\n",
    "out_dir = \"output\"\n",
    "src = \"src\"\n",
    "zipname = \"geodata_swe.zip\"\n",
    "pathsep = os.path.sep\n",
    "\n",
    "# Raw data\n",
    "geo_url = \"http://biogeo.ucdavis.edu/data/gadm2.8/shp/SWE_adm_shp.zip\" # Geo data"
   ]
  },
  {
   "cell_type": "markdown",
   "metadata": {},
   "source": [
    "### Main script\n",
    "\n",
    "TODO: Write about what comes out (i.e. the topojson file)"
   ]
  },
  {
   "cell_type": "code",
   "execution_count": 35,
   "metadata": {
    "collapsed": false
   },
   "outputs": [
    {
     "name": "stdout",
     "output_type": "stream",
     "text": [
      "Running command: ogr2ogr -f GeoJSON counties.json geodata_swe/SWE_adm1.shp\n",
      "Running command: topojson -o output/counties_swe.json --id-property HASC_1 -p county=NAME_1 -- counties.json\n"
     ]
    }
   ],
   "source": [
    "if __name__ == \"__main__\":\n",
    "    \n",
    "    # Download file\n",
    "    o = urllib.URLopener()\n",
    "    o.retrieve(geo_url, zipname)\n",
    "\n",
    "    # Extract all\n",
    "    tmp = zipname.split(\".\")[0]\n",
    "    with zipfile.ZipFile(zipname, \"r\") as z:\n",
    "        z.extractall(tmp)\n",
    "\n",
    "    # Convert shape files to GeoJSON, then GeoJSON to TopoJSON\n",
    "    shape2json(tmp, \"SWE_adm1.shp\", \"counties.json\")\n",
    "    geo2topo(\"counties.json\", \"counties_swe.json\", out_dir)\n",
    "\n",
    "    # Extract map IDs\n",
    "\n",
    "    # Write/Update relevant files\n",
    "\n",
    "    # Remove tmp files\n",
    "    shutil.rmtree(tmp)\n",
    "    os.remove(zipname)\n",
    "    os.remove(\"counties.json\")"
   ]
  }
 ],
 "metadata": {
  "kernelspec": {
   "display_name": "Python 2",
   "language": "python",
   "name": "python2"
  },
  "language_info": {
   "codemirror_mode": {
    "name": "ipython",
    "version": 2
   },
   "file_extension": ".py",
   "mimetype": "text/x-python",
   "name": "python",
   "nbconvert_exporter": "python",
   "pygments_lexer": "ipython2",
   "version": "2.7.11"
  }
 },
 "nbformat": 4,
 "nbformat_minor": 0
}
